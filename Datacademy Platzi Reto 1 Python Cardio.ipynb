{
 "cells": [
  {
   "cell_type": "markdown",
   "id": "02685ddc",
   "metadata": {},
   "source": [
    "# Python cardio\n",
    "\n",
    "## Desafío Datacademy 2021 - Platzi.com \n",
    "\n",
    "https://platzi.com/clases/2333-datacademy/38044-python-cardio/\n",
    "\n",
    "Esta semana has aprendido lo básico sobre Python y es momento de poner a trabajar ese nuevo conocimiento. Por ello en esta lectura te recomendaré una serie de ejercicios para empezar a desarrollar aún más tus habilidades lógicas.\n"
   ]
  },
  {
   "cell_type": "markdown",
   "id": "e081f41b",
   "metadata": {},
   "source": [
    "# Reto 1 - Área de un triángulo\n",
    "## Es momento de poner ese conocimiento a la práctica. El área de un triángulo se describe de la siguiente manera: \n",
    "$ A = (b * h) / 2 .$ \n",
    "\n",
    "### Escribe un programa que tome la base y la altura como parámetros y calcule el área del triángulo.\n",
    "\n",
    "### Bonus: el programa debe determinar si el triángulo es isósceles, equilátero o escaleno."
   ]
  },
  {
   "cell_type": "code",
   "execution_count": 1,
   "id": "989428e1",
   "metadata": {},
   "outputs": [],
   "source": [
    "# Definición de Funciones\n",
    "def calcular_area_triangulo(p_base, p_altura):\n",
    "    area_triangulo = (p_base * p_altura)/2\n",
    "    return area_triangulo\n",
    "\n",
    "def tipo_triangulo(p_base, p_altura,lado_c):\n",
    "    if p_base == p_altura and p_base == lado_c:\n",
    "        tipo_triangulo = \"Todos los Lados iguales - Triángulo Equilatero\"\n",
    "    elif p_altura == lado_c and p_altura != p_base :\n",
    "        tipo_triangulo = \"Dos Lados iguales - Triángulo Isosceles\"\n",
    "    elif p_altura != lado_c and p_altura != p_base :\n",
    "        tipo_triangulo = \"Todos los Lados desiguales - Triángulo Escaleno\"\n",
    "    return tipo_triangulo\n",
    "        \n",
    "    "
   ]
  },
  {
   "cell_type": "code",
   "execution_count": 4,
   "id": "de404593",
   "metadata": {},
   "outputs": [
    {
     "name": "stdout",
     "output_type": "stream",
     "text": [
      "Ingresar el Número Base      :3\n",
      "Ingregar el Número de Altura :2\n",
      "Ingregar el valor del lado restante del triángulo :3\n",
      "el Area del Triángulo es \n",
      "3.0\n",
      "Todos los Lados desiguales - Triángulo Escaleno\n"
     ]
    }
   ],
   "source": [
    "nro_base =   float(input(\"Ingresar el Número Base      :\"))\n",
    "nro_altura = float(input(\"Ingregar el Número de Altura :\"))\n",
    "lado_c= float(input(\"Ingregar el valor del lado restante del triángulo :\"))\n",
    "valor_area = calcular_area_triangulo(nro_base,nro_altura)\n",
    "print(\"el Area del Triángulo es \")\n",
    "print(str(valor_area))\n",
    "print(tipo_triangulo(nro_base,nro_altura,lado_c))\n"
   ]
  },
  {
   "cell_type": "markdown",
   "id": "351826db",
   "metadata": {},
   "source": [
    "# Reto 2 - Piedra, papel o tijera\n",
    "## Escribe un programa que reciba como parámetro \n",
    "### “piedra”, “papel”, o “tijera”\n",
    "\n",
    "### y determine si ganó el jugador 1 o el jugador 2.\n",
    "\n",
    "#### Bonus: determina que el ganador sea el jugador que gane 2 de 3 encuentros.\n",
    "\n",
    "### Ejemplo:\n",
    "\n",
    "> ppt(“piedra”, “papel”) ➞ “El ganador es el jugador 2 \n",
    "\n"
   ]
  },
  {
   "cell_type": "code",
   "execution_count": 4,
   "id": "6e7a0644",
   "metadata": {},
   "outputs": [],
   "source": [
    "def seleccion_opcion_jugador(p_opcion_jugador):\n",
    "    opciones_piedra_papel_tijera = {'1' : 'Piedra', '2' : 'Papel', '3': 'Tijera' }\n",
    "    opcion_seleccionada = opciones_piedra_papel_tijera[p_opcion_jugador]\n",
    "    return opcion_seleccionada"
   ]
  },
  {
   "cell_type": "code",
   "execution_count": 5,
   "id": "e0efa6e8",
   "metadata": {},
   "outputs": [],
   "source": [
    "def piedra_vs_papel_vs_tijera(p_jugador1,p_jugador2):\n",
    "   \n",
    "    msg_empate = \"El resultado es empate\"\n",
    "    msg_gana_1 = \"El ganador es el jugador 1\"\n",
    "    msg_gana_2 = \"El ganador es el jugador 2\"\n",
    "    \n",
    "    if p_jugador1 == \"Piedra\":\n",
    "        if p_jugador2 == 'Piedra':\n",
    "            resultado = '0'\n",
    "            msg = msg_empate\n",
    "        elif p_jugador2 == 'Papel':\n",
    "            resultado = '2'\n",
    "            msg = msg_gana_2\n",
    "        else :\n",
    "            resultado = '1'\n",
    "            msg = msg_gana_1\n",
    "            \n",
    "    if p_jugador1 == \"Papel\":\n",
    "        if p_jugador2 == 'Piedra':\n",
    "            resultado = '1'\n",
    "            msg = msg_gana_1\n",
    "        elif p_jugador2 == 'Papel':\n",
    "            resultado = '0'\n",
    "            msg = msg_empate\n",
    "        else :\n",
    "            resultado = '2'\n",
    "            msg = msg_gana_2\n",
    "    if p_jugador1 == \"Tijera\":\n",
    "        if p_jugador2 == 'Piedra':\n",
    "            resultado = '2'\n",
    "            msg = msg_gana_2\n",
    "        elif p_jugador2 == 'Papel':\n",
    "            resultado = '1'\n",
    "            msg = msg_gana_1\n",
    "        else :\n",
    "            resultado = '0'\n",
    "            msg = msg_empate\n",
    "    return [resultado,msg]    \n"
   ]
  },
  {
   "cell_type": "code",
   "execution_count": null,
   "id": "8eed5b19",
   "metadata": {},
   "outputs": [],
   "source": [
    "partidas_ganadas = 0\n",
    "msg_final = \"\"\n",
    "jugador1_ganadas = 0\n",
    "jugador2_ganadas = 0\n",
    "finalizar_juego = False\n",
    "while not finalizar_juego:\n",
    "    jugador_1 = input(\"\"\" Seleccione una opcion \n",
    "    1 - Piedra\n",
    "    2 - Papel\n",
    "    3 - Tijera\n",
    "    : \"\"\")\n",
    "    jugador_2 = input(\"\"\" Seleccione una opcion \n",
    "    1 - Piedra\n",
    "    2 - Papel\n",
    "    3 - Tijera\n",
    "    : \"\"\")\n",
    "    jugador_1 = seleccion_opcion_jugador(jugador_1)\n",
    "    jugador_2 = seleccion_opcion_jugador(jugador_2)\n",
    "\n",
    "    resultado,msg = piedra_vs_papel_vs_tijera(jugador_1,jugador_2)\n",
    "    \n",
    "    print(\"Jugador 1  x Jugador 2          Resultado\")\n",
    "    print(\"  \" + jugador_1 + \" \" + \"  -   \" + jugador_2 + ' -   ' + \"\" + msg )\n",
    "    \n",
    "    if resultado == '1':\n",
    "        jugador1_ganadas +=1\n",
    "        if jugador1_ganadas == 3:\n",
    "            finalizar_juego = True\n",
    "            msg_final = \"Con tres juegos victoriosos el Ganador es el Jugador 1\"\n",
    "            \n",
    "    if resultado == '2':\n",
    "        jugador2_ganadas +=1\n",
    "        if jugador2_ganadas == 3:\n",
    "            finalizar_juego = True\n",
    "            msg_final = \"Con tres juegos victoriosos el Ganador es el Jugador 2\"\n",
    "    print(resultado)\n",
    "    print(jugador1_ganadas)\n",
    "    print(jugador2_ganadas)\n",
    "print(finalizar_juego)\n",
    "print(msg_final)   \n",
    "        \n",
    "\n",
    "\n"
   ]
  },
  {
   "cell_type": "markdown",
   "id": "0d0fed60",
   "metadata": {},
   "source": [
    "# Reto 3 - Conversor de millas a kilómetros\n",
    "## Imagina que quieres calcular los kilómetros que son cierta cantidad de millas. Para no estar repitiendo este cálculo escribe un programa en que el usuario indique una cantidad de millas y en pantalla se muestre el resultado convertido a kilómetros.\n",
    "\n",
    "## Toma en cuenta que en cada milla hay 1.609344 Km\n",
    "\n",
    "## Bonus: haz que el usuario pueda escoger entre convertir millas a kilómetros o kilómetros a millas.\n"
   ]
  },
  {
   "cell_type": "code",
   "execution_count": null,
   "id": "b37a83a2",
   "metadata": {},
   "outputs": [],
   "source": [
    "def conversor_millas_km(valor_a_convertir, tipo_conversion):\n",
    "    valor_km    = 0.999997\n",
    "    valor_milla = 1.609344\n",
    "    \n",
    "    if tipo_conversion == '1':\n",
    "        tipo_conversion = 'Km'\n",
    "        operacion = 'Millas a Kilómetros'\n",
    "        conversion = valor_a_convertir * valor_km\n",
    "        \n",
    "    if tipo_conversion == '2':\n",
    "        tipo_conversion = 'Millas'\n",
    "        operacion = 'Kilómetros a Millas'\n",
    "        conversion = valor_a_convertir * valor_milla\n",
    "                \n",
    "    unidad_medida = tipo_conversion    \n",
    "    return [operacion,conversion,unidad_medida]\n",
    "\n",
    "    "
   ]
  },
  {
   "cell_type": "code",
   "execution_count": null,
   "id": "250da4df",
   "metadata": {},
   "outputs": [],
   "source": [
    "valor_ingresado = float(input (\"Ingresa el valor a convertir :\"))\n",
    "tipo_conversion_ingresado = input (\"\"\"\n",
    " elegir el tipo de conversion deseado: \n",
    " 1 - Millas a Kilometros\n",
    " 2 - Km`s a Millas\n",
    "\"\"\")\n",
    "\n",
    "operacion,conversion,unidad_medida = conversor_millas_km(valor_ingresado,tipo_conversion_ingresado)\n",
    "\n",
    "print( str(valor_ingresado)+ ' ' +  operacion + ' ' + str(conversion) + ' '+ unidad_medida )\n"
   ]
  },
  {
   "cell_type": "markdown",
   "id": "432475f8",
   "metadata": {},
   "source": [
    "# Reto 4 - Calculadora de volúmenes\n",
    "\n",
    "## Sigamos con matemáticas elementales para no perder la costumbre y retar nuestras habilidades. Escribe un programa donde apliques las diferentes fórmulas matemáticas para calcular el volumen de un cilindro.\n",
    "\n",
    "## Recuerda que la base del cilindro es un círculo y necesitarás calcular su área. \n",
    "##  Aplica las fórmulas en tu programa recibiendo datos como altura y radio.\n",
    "\n",
    "##  Bonus: agrega otras figuras geométricas a tu programa y que el usuario pueda escoger cuál calcular."
   ]
  },
  {
   "cell_type": "code",
   "execution_count": null,
   "id": "b8f1a0b8",
   "metadata": {},
   "outputs": [],
   "source": [
    "def calcular_area_figura_geometrica(p_tipo_figura_geometrica,p_altura,p_radio):\n",
    "    pi = 3.1416\n",
    "    \n",
    "    if p_tipo_figura_geometrica == '1':\n",
    "        figura = 'Cilindro'\n",
    "        volumen_figura_geometrica = (pi * p_radio**2)*p_altura\n",
    "        \n",
    "    if p_tipo_figura_geometrica == '2':\n",
    "        figura = 'Pirámide'\n",
    "        volumen_figura_geometrica = (p_radio*p_altura)/3\n",
    "    if p_tipo_figura_geometrica == '3':\n",
    "        figura = 'Cono'\n",
    "        volumen_figura_geometrica = (pi*p_radio**2*p_altura)/3\n",
    "           \n",
    "    return [figura,volumen_figura_geometrica]\n",
    "    "
   ]
  },
  {
   "cell_type": "code",
   "execution_count": null,
   "id": "20360afc",
   "metadata": {},
   "outputs": [],
   "source": [
    "tipo_figura_seleccionada = input(\"\"\" Ingrese el tipo de Figura Geometrica \n",
    "1- Cilindro\n",
    "2- Pirámide\n",
    "3- Cono\"\"\")\n",
    "\n",
    "if tipo_figura_seleccionada == '1':\n",
    "    valor_1_texto = 'Altura'\n",
    "    valor_2_texto = 'Radio'\n",
    "if tipo_figura_seleccionada == '2':\n",
    "    valor_1_texto = 'Altura'\n",
    "    valor_2_texto = 'Area Base'  \n",
    "if tipo_figura_seleccionada == '3':\n",
    "    valor_1_texto = 'Altura'\n",
    "    valor_2_texto = 'radio'  \n",
    "\n",
    "altura_seleccionada = float(input(\"ingrese \"+ valor_1_texto + \" :\"))\n",
    "radio_seleccionada = float(input(\"Ingrese \"+ valor_2_texto + \" :\"))\n",
    "figura, volumen_figura_geometrica = calcular_area_figura_geometrica(tipo_figura_seleccionada,altura_seleccionada,radio_seleccionada)\n",
    "print('el valor del Volumen de la Figura ' + figura + ' es ' + str(volumen_figura_geometrica))\n"
   ]
  },
  {
   "cell_type": "markdown",
   "id": "e7b31ef4",
   "metadata": {},
   "source": [
    "# Reto 5 - Rangos cambiantes\n",
    "## Para este reto final juguemos con números. \n",
    "\n",
    "### En tu programa pide al usuario ingresar 3 números: \n",
    "un límite inferior, un límite superior y uno de comparación.\n",
    "\n",
    "Si tu número de comparación se encuentra en el rango de los dos límites, imprímelo en pantalla.\n",
    "\n",
    "En caso de estar por debajo del inferior o arriba del superior, también muéstralo en pantalla\n",
    "y pide ingresar otro número para repetir el proceso.\n"
   ]
  },
  {
   "cell_type": "code",
   "execution_count": null,
   "id": "e96cf979",
   "metadata": {},
   "outputs": [],
   "source": [
    "def comparar_rango_numreros(numero_1,numero_2,comparador):\n",
    "    finalizar = False\n",
    "    if numero_1 >= numero_2:\n",
    "        limite_superior = numero_1\n",
    "        limite_inferior = numero_2\n",
    "    elif numero_1 < numero_2:\n",
    "        limite_superior = numero_2\n",
    "        limite_inferior = numero_1\n",
    " \n",
    "    if comparador >= limite_inferior and comparador <= limite_superior:\n",
    "        resultado = \"El numero está Dentro del rango Inferior - Superior\"\n",
    "        finalizar = True\n",
    "    else:\n",
    "        resultado = \"El numero está Fuera del rango Inferior - Superior\"\n",
    "        finalizar = False\n",
    "    \n",
    "    return [resultado,finalizar]"
   ]
  },
  {
   "cell_type": "code",
   "execution_count": null,
   "id": "82e6e4eb",
   "metadata": {},
   "outputs": [],
   "source": [
    "finalizar = False\n",
    "while not finalizar:\n",
    "    nro_1 = int(input(\"Ingresar nro :\")) \n",
    "    nro_2 = int(input(\"Ingresar nro :\")) \n",
    "    compara = int(input(\"Ingresar nro :\")) \n",
    "    \n",
    "    resultado,finalizar = comparar_rango_numreros(nro_1,nro_2,compara)\n",
    "    print(resultado)\n",
    "    print(\"Rango \" +str(nro_1) + \" - \" + str(nro_2) + \" Comparador = \" + str(compara))\n",
    "print(\"fin\")"
   ]
  },
  {
   "cell_type": "code",
   "execution_count": null,
   "id": "3ef4e97b",
   "metadata": {},
   "outputs": [],
   "source": []
  },
  {
   "cell_type": "code",
   "execution_count": null,
   "id": "1ff1509c",
   "metadata": {},
   "outputs": [],
   "source": []
  }
 ],
 "metadata": {
  "kernelspec": {
   "display_name": "Python 3",
   "language": "python",
   "name": "python3"
  },
  "language_info": {
   "codemirror_mode": {
    "name": "ipython",
    "version": 3
   },
   "file_extension": ".py",
   "mimetype": "text/x-python",
   "name": "python",
   "nbconvert_exporter": "python",
   "pygments_lexer": "ipython3",
   "version": "3.7.10"
  }
 },
 "nbformat": 4,
 "nbformat_minor": 5
}
